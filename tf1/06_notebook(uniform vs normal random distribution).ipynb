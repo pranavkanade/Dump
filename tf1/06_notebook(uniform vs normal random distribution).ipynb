{
 "cells": [
  {
   "cell_type": "code",
   "execution_count": 1,
   "metadata": {
    "collapsed": true
   },
   "outputs": [],
   "source": [
    "import tensorflow as tf\n",
    "import matplotlib.pyplot as plt"
   ]
  },
  {
   "cell_type": "markdown",
   "metadata": {},
   "source": [
    "# Random Numbers"
   ]
  },
  {
   "cell_type": "markdown",
   "metadata": {},
   "source": [
    "Create a tensor of shape [100] consisting of random normal values, with mean 0 and standarad deviation 2."
   ]
  },
  {
   "cell_type": "code",
   "execution_count": 2,
   "metadata": {
    "collapsed": true
   },
   "outputs": [],
   "source": [
    "norm = tf.random_normal([100],mean=0, stddev=2)\n",
    "# random_uniform vs random_normal distribution_"
   ]
  },
  {
   "cell_type": "markdown",
   "metadata": {},
   "source": [
    "## Random Uniform Distribution :\n",
    "    * Distribution is limited by min and max values \n",
    "    * all values are equially likely\n",
    "    \n",
    "## Random Normal Distribution :\n",
    "    * Distribution is infinite\n",
    "    * most likely quaintities are at the mean value"
   ]
  },
  {
   "cell_type": "code",
   "execution_count": 3,
   "metadata": {
    "collapsed": false
   },
   "outputs": [
    {
     "data": {
      "image/png": "[encoded data removed]",
      "text/plain": [
       "<matplotlib.figure.Figure at 0x7f05642955f8>"
      ]
     },
     "metadata": {},
     "output_type": "display_data"
    }
   ],
   "source": [
    "with tf.Session() as session:\n",
    "    plt.hist(norm.eval(), normed=True)\n",
    "    plt.show()"
   ]
  },
  {
   "cell_type": "markdown",
   "metadata": {},
   "source": [
    "#### `Random Uniform`"
   ]
  },
  {
   "cell_type": "code",
   "execution_count": 4,
   "metadata": {
    "collapsed": true
   },
   "outputs": [],
   "source": [
    "uniform = tf.random_uniform([100], minval=0, maxval=1, dtype=tf.float32)"
   ]
  },
  {
   "cell_type": "code",
   "execution_count": 10,
   "metadata": {
    "collapsed": false
   },
   "outputs": [
    {
     "data": {
      "image/png": "[encoded data removed]",
      "text/plain": [
       "<matplotlib.figure.Figure at 0x7f0541695a20>"
      ]
     },
     "metadata": {},
     "output_type": "display_data"
    }
   ],
   "source": [
    "with tf.Session() as session:\n",
    "    # print(uniform.eval())\n",
    "    plt.hist(uniform.eval(), normed=False)\n",
    "    plt.show()"
   ]
  },
  {
   "cell_type": "markdown",
   "metadata": {},
   "source": [
    "### Uniform With Seed:"
   ]
  },
  {
   "cell_type": "code",
   "execution_count": 11,
   "metadata": {
    "collapsed": true
   },
   "outputs": [],
   "source": [
    "uniform_with_seed = tf.random_uniform([1], seed=1)\n",
    "uniform_without_seed = tf.random_uniform([1])"
   ]
  },
  {
   "cell_type": "markdown",
   "metadata": {},
   "source": [
    "`Repeatedly evaluating above quantities`"
   ]
  },
  {
   "cell_type": "markdown",
   "metadata": {},
   "source": [
    "#### `tf.random_uniform` (with seed) : returns same values in same sequence\n",
    "\n",
    "#### `tf.random_uniform` (without seed) : returns different values all the time"
   ]
  },
  {
   "cell_type": "code",
   "execution_count": 13,
   "metadata": {
    "collapsed": false
   },
   "outputs": [
    {
     "name": "stdout",
     "output_type": "stream",
     "text": [
      "uniform random with (seed = 1) => [ 0.23903739]\n",
      "uniform random with (seed = 1) => [ 0.22267115]\n",
      "uniform random without seed => [ 0.28352118]\n",
      "uniform random without seed => [ 0.90542197]\n"
     ]
    }
   ],
   "source": [
    "with tf.Session() as f_session:\n",
    "    print(\"uniform random with (seed = 1) => {}\"\n",
    "         .format(f_session.run(uniform_with_seed)))\n",
    "    print(\"uniform random with (seed = 1) => {}\"\n",
    "         .format(f_session.run(uniform_with_seed)))\n",
    "    print(\"uniform random without seed => {}\"\n",
    "         .format(f_session.run(uniform_without_seed)))\n",
    "    print(\"uniform random without seed => {}\"\n",
    "         .format(f_session.run(uniform_without_seed)))"
   ]
  },
  {
   "cell_type": "code",
   "execution_count": 14,
   "metadata": {
    "collapsed": false
   },
   "outputs": [
    {
     "name": "stdout",
     "output_type": "stream",
     "text": [
      "uniform random with (seed = 1) => [ 0.23903739]\n",
      "uniform random with (seed = 1) => [ 0.22267115]\n",
      "uniform random without seed => [ 0.15701807]\n",
      "uniform random without seed => [ 0.60954273]\n"
     ]
    }
   ],
   "source": [
    "with tf.Session() as s_session:\n",
    "    print(\"uniform random with (seed = 1) => {}\"\n",
    "         .format(s_session.run(uniform_with_seed)))\n",
    "    print(\"uniform random with (seed = 1) => {}\"\n",
    "         .format(s_session.run(uniform_with_seed)))\n",
    "    print(\"uniform random without seed => {}\"\n",
    "         .format(s_session.run(uniform_without_seed)))\n",
    "    print(\"uniform random without seed => {}\"\n",
    "         .format(s_session.run(uniform_without_seed)))"
   ]
  },
  {
   "cell_type": "code",
   "execution_count": null,
   "metadata": {
    "collapsed": true
   },
   "outputs": [],
   "source": []
  }
 ],
 "metadata": {
  "kernelspec": {
   "display_name": "PythonTfn",
   "language": "python",
   "name": "python3"
  },
  "language_info": {
   "codemirror_mode": {
    "name": "ipython",
    "version": 3
   },
   "file_extension": ".py",
   "mimetype": "text/x-python",
   "name": "python",
   "nbconvert_exporter": "python",
   "pygments_lexer": "ipython3",
   "version": "3.6.0"
  }
 },
 "nbformat": 4,
 "nbformat_minor": 2
}
