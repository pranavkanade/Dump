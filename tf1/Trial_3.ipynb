{
  "cells": [
    {
      "cell_type": "code",
      "source": [
        "import spacy"
      ],
      "outputs": [],
      "execution_count": 1,
      "metadata": {
        "collapsed": true
      }
    },
    {
      "cell_type": "code",
      "source": [
        "import json"
      ],
      "outputs": [],
      "execution_count": 2,
      "metadata": {
        "collapsed": true
      }
    },
    {
      "cell_type": "markdown",
      "source": [
        "### Load the pipeline (default)"
      ],
      "metadata": {}
    },
    {
      "cell_type": "code",
      "source": [
        "nlp = spacy.load('en')"
      ],
      "outputs": [],
      "execution_count": 3,
      "metadata": {
        "collapsed": true
      }
    },
    {
      "cell_type": "markdown",
      "source": [
        "## Load join seprate corpus (js_corpus.json)"
      ],
      "metadata": {}
    },
    {
      "cell_type": "code",
      "source": [
        "with open('js_corpus.json') as js_corpus_raw:\n",
        "    js_corpus = json.load(js_corpus_raw)"
      ],
      "outputs": [],
      "execution_count": 4,
      "metadata": {
        "collapsed": true
      }
    },
    {
      "cell_type": "markdown",
      "source": [
        "## Clean the Data"
      ],
      "metadata": {}
    },
    {
      "cell_type": "code",
      "source": [
        "# remove all the blank spaces and new lines,\n",
        "# in front and at the back of the question text.\n",
        "js_corpus = [question['sQuestion'].strip('\\n ') for question in js_corpus]"
      ],
      "outputs": [],
      "execution_count": 5,
      "metadata": {
        "collapsed": false
      }
    },
    {
      "cell_type": "markdown",
      "source": [
        "## Tokenize all the data loaded in `js_corpus`"
      ],
      "metadata": {}
    },
    {
      "cell_type": "code",
      "source": [
        "js_corpus_tokenized = [list(nlp(question)) for question in js_corpus]"
      ],
      "outputs": [],
      "execution_count": 6,
      "metadata": {
        "collapsed": true
      }
    },
    {
      "cell_type": "markdown",
      "source": [
        "# To find the difference between the `dep_` and `tag_`"
      ],
      "metadata": {}
    },
    {
      "cell_type": "code",
      "source": [
        "for tok in js_corpus_tokenized[0]:\n",
        "    print(tok.orth_, ' tag : '+ tok.tag_, \" dep : \" + tok.dep_, \" pos : \"+ tok.pos_)"
      ],
      "outputs": [
        {
          "output_type": "stream",
          "name": "stdout",
          "text": [
            "Mr.  tag : NNP  dep : compound  pos : PROPN\n",
            "Smith  tag : NNP  dep : nsubj  pos : PROPN\n",
            "had  tag : VBD  dep : ROOT  pos : VERB\n",
            "6  tag : CD  dep : nummod  pos : NUM\n",
            "cookies  tag : NNS  dep : dobj  pos : NOUN\n",
            ".  tag : .  dep : punct  pos : PUNCT\n",
            "Suzy  tag : NNP  dep : nsubj  pos : PROPN\n",
            "gave  tag : VBD  dep : ROOT  pos : VERB\n",
            "him  tag : PRP  dep : dative  pos : PRON\n",
            "3  tag : CD  dep : nummod  pos : NUM\n",
            "more  tag : JJR  dep : amod  pos : ADJ\n",
            "cookies  tag : NNS  dep : dobj  pos : NOUN\n",
            ".  tag : .  dep : punct  pos : PUNCT\n",
            "How  tag : WRB  dep : advmod  pos : ADV\n",
            "many  tag : JJ  dep : amod  pos : ADJ\n",
            "cookies  tag : NNS  dep : dobj  pos : NOUN\n",
            "does  tag : VBZ  dep : aux  pos : VERB\n",
            "Mr.  tag : NNP  dep : compound  pos : PROPN\n",
            "Smith  tag : NNP  dep : nsubj  pos : PROPN\n",
            "have  tag : VBP  dep : ROOT  pos : VERB\n",
            "now  tag : RB  dep : advmod  pos : ADV\n",
            "?  tag : .  dep : punct  pos : PUNCT\n"
          ]
        }
      ],
      "execution_count": 8,
      "metadata": {
        "collapsed": false
      }
    },
    {
      "cell_type": "code",
      "source": [
        "for i in range(5):\n",
        "    print(js_corpus[i] + \"\\n\")"
      ],
      "outputs": [
        {
          "output_type": "stream",
          "name": "stdout",
          "text": [
            "Mr. Smith had 6 cookies. Suzy gave him 3 more cookies. How many cookies does Mr. Smith have now?\n",
            "\n",
            "Mr. Smith had 4 cookies. Suzy gave him some more. Then, Mr. Smith had 7 cookies. How many cookies did Suzy give Mr. Smith?\n",
            "\n",
            "Mr. Smith had some cookies. Suzy gave him 4 more cookies. Then, he had 6 cookies. How many cookies did Mr. Smith start with?\n",
            "\n",
            "You have 4 books to read. You get 3 more books from the library. How many books do you have now?\n",
            "\n",
            "Robin has 98 toy cars. Her parents gave her 45 more toy cars for her birthday. How many toy cars will she have then?\n",
            "\n"
          ]
        }
      ],
      "execution_count": 9,
      "metadata": {
        "collapsed": false
      }
    }
  ],
  "metadata": {
    "kernelspec": {
      "name": "python3",
      "language": "python",
      "display_name": "PythonTfn"
    },
    "language_info": {
      "name": "python",
      "version": "3.6.0",
      "mimetype": "text/x-python",
      "codemirror_mode": {
        "name": "ipython",
        "version": 3
      },
      "pygments_lexer": "ipython3",
      "nbconvert_exporter": "python",
      "file_extension": ".py"
    },
    "kernel_info": {
      "name": "python3"
    }
  },
  "nbformat": 4,
  "nbformat_minor": 2
}