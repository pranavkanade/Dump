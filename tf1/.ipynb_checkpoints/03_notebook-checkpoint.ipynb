{
 "cells": [
  {
   "cell_type": "code",
   "execution_count": 1,
   "metadata": {
    "collapsed": true
   },
   "outputs": [],
   "source": [
    "import tensorflow as tf\n",
    "import numpy as np\n",
    "import matplotlib.pyplot as plt"
   ]
  },
  {
   "cell_type": "markdown",
   "metadata": {},
   "source": [
    "### Mandelbrot set"
   ]
  },
  {
   "cell_type": "markdown",
   "metadata": {},
   "source": [
    "#### numpy.mgrid\n",
    "returns a dense multi-dimensional \"meshgrid\"\n",
    "\n"
   ]
  },
  {
   "cell_type": "code",
   "execution_count": 2,
   "metadata": {
    "collapsed": false
   },
   "outputs": [
    {
     "name": "stdout",
     "output_type": "stream",
     "text": [
      "4\n"
     ]
    }
   ],
   "source": [
    "nx, ny = (4, 5)\n",
    "print(nx)"
   ]
  },
  {
   "cell_type": "code",
   "execution_count": 3,
   "metadata": {
    "collapsed": false
   },
   "outputs": [
    {
     "name": "stdout",
     "output_type": "stream",
     "text": [
      "5\n"
     ]
    }
   ],
   "source": [
    "print(ny)"
   ]
  },
  {
   "cell_type": "code",
   "execution_count": 4,
   "metadata": {
    "collapsed": false
   },
   "outputs": [
    {
     "name": "stdout",
     "output_type": "stream",
     "text": [
      "[ 0.          0.33333333  0.66666667  1.        ]\n"
     ]
    }
   ],
   "source": [
    "xn = np.linspace(0, 1, nx)\n",
    "print(xn)"
   ]
  },
  {
   "cell_type": "code",
   "execution_count": 5,
   "metadata": {
    "collapsed": false
   },
   "outputs": [
    {
     "name": "stdout",
     "output_type": "stream",
     "text": [
      "[ 0.    0.25  0.5   0.75  1.  ]\n"
     ]
    }
   ],
   "source": [
    "yn = np.linspace(0, 1, ny)\n",
    "print(yn)"
   ]
  },
  {
   "cell_type": "code",
   "execution_count": 14,
   "metadata": {
    "collapsed": true
   },
   "outputs": [],
   "source": [
    "zn = np.linspace(2, 3, 6)"
   ]
  },
  {
   "cell_type": "code",
   "execution_count": 23,
   "metadata": {
    "collapsed": true
   },
   "outputs": [],
   "source": [
    "xv, yv, zv = np.meshgrid(xn, yn, zn)\n",
    "# xv = np.meshgrid(xn) -> Try to run this"
   ]
  },
  {
   "cell_type": "code",
   "execution_count": 24,
   "metadata": {
    "collapsed": false
   },
   "outputs": [
    {
     "name": "stdout",
     "output_type": "stream",
     "text": [
      "[[[ 0.          0.          0.          0.          0.          0.        ]\n",
      "  [ 0.33333333  0.33333333  0.33333333  0.33333333  0.33333333  0.33333333]\n",
      "  [ 0.66666667  0.66666667  0.66666667  0.66666667  0.66666667  0.66666667]\n",
      "  [ 1.          1.          1.          1.          1.          1.        ]]\n",
      "\n",
      " [[ 0.          0.          0.          0.          0.          0.        ]\n",
      "  [ 0.33333333  0.33333333  0.33333333  0.33333333  0.33333333  0.33333333]\n",
      "  [ 0.66666667  0.66666667  0.66666667  0.66666667  0.66666667  0.66666667]\n",
      "  [ 1.          1.          1.          1.          1.          1.        ]]\n",
      "\n",
      " [[ 0.          0.          0.          0.          0.          0.        ]\n",
      "  [ 0.33333333  0.33333333  0.33333333  0.33333333  0.33333333  0.33333333]\n",
      "  [ 0.66666667  0.66666667  0.66666667  0.66666667  0.66666667  0.66666667]\n",
      "  [ 1.          1.          1.          1.          1.          1.        ]]\n",
      "\n",
      " [[ 0.          0.          0.          0.          0.          0.        ]\n",
      "  [ 0.33333333  0.33333333  0.33333333  0.33333333  0.33333333  0.33333333]\n",
      "  [ 0.66666667  0.66666667  0.66666667  0.66666667  0.66666667  0.66666667]\n",
      "  [ 1.          1.          1.          1.          1.          1.        ]]\n",
      "\n",
      " [[ 0.          0.          0.          0.          0.          0.        ]\n",
      "  [ 0.33333333  0.33333333  0.33333333  0.33333333  0.33333333  0.33333333]\n",
      "  [ 0.66666667  0.66666667  0.66666667  0.66666667  0.66666667  0.66666667]\n",
      "  [ 1.          1.          1.          1.          1.          1.        ]]]\n",
      "(5, 4, 6)\n"
     ]
    }
   ],
   "source": [
    "print(xv)\n",
    "print(xv.shape)"
   ]
  },
  {
   "cell_type": "code",
   "execution_count": 25,
   "metadata": {
    "collapsed": false
   },
   "outputs": [
    {
     "name": "stdout",
     "output_type": "stream",
     "text": [
      "[[[ 0.    0.    0.    0.    0.    0.  ]\n",
      "  [ 0.    0.    0.    0.    0.    0.  ]\n",
      "  [ 0.    0.    0.    0.    0.    0.  ]\n",
      "  [ 0.    0.    0.    0.    0.    0.  ]]\n",
      "\n",
      " [[ 0.25  0.25  0.25  0.25  0.25  0.25]\n",
      "  [ 0.25  0.25  0.25  0.25  0.25  0.25]\n",
      "  [ 0.25  0.25  0.25  0.25  0.25  0.25]\n",
      "  [ 0.25  0.25  0.25  0.25  0.25  0.25]]\n",
      "\n",
      " [[ 0.5   0.5   0.5   0.5   0.5   0.5 ]\n",
      "  [ 0.5   0.5   0.5   0.5   0.5   0.5 ]\n",
      "  [ 0.5   0.5   0.5   0.5   0.5   0.5 ]\n",
      "  [ 0.5   0.5   0.5   0.5   0.5   0.5 ]]\n",
      "\n",
      " [[ 0.75  0.75  0.75  0.75  0.75  0.75]\n",
      "  [ 0.75  0.75  0.75  0.75  0.75  0.75]\n",
      "  [ 0.75  0.75  0.75  0.75  0.75  0.75]\n",
      "  [ 0.75  0.75  0.75  0.75  0.75  0.75]]\n",
      "\n",
      " [[ 1.    1.    1.    1.    1.    1.  ]\n",
      "  [ 1.    1.    1.    1.    1.    1.  ]\n",
      "  [ 1.    1.    1.    1.    1.    1.  ]\n",
      "  [ 1.    1.    1.    1.    1.    1.  ]]]\n",
      "(5, 4, 6)\n"
     ]
    }
   ],
   "source": [
    "print(yv)\n",
    "print(yv.shape)"
   ]
  },
  {
   "cell_type": "code",
   "execution_count": 26,
   "metadata": {
    "collapsed": false
   },
   "outputs": [
    {
     "name": "stdout",
     "output_type": "stream",
     "text": [
      "[[[ 2.   2.2  2.4  2.6  2.8  3. ]\n",
      "  [ 2.   2.2  2.4  2.6  2.8  3. ]\n",
      "  [ 2.   2.2  2.4  2.6  2.8  3. ]\n",
      "  [ 2.   2.2  2.4  2.6  2.8  3. ]]\n",
      "\n",
      " [[ 2.   2.2  2.4  2.6  2.8  3. ]\n",
      "  [ 2.   2.2  2.4  2.6  2.8  3. ]\n",
      "  [ 2.   2.2  2.4  2.6  2.8  3. ]\n",
      "  [ 2.   2.2  2.4  2.6  2.8  3. ]]\n",
      "\n",
      " [[ 2.   2.2  2.4  2.6  2.8  3. ]\n",
      "  [ 2.   2.2  2.4  2.6  2.8  3. ]\n",
      "  [ 2.   2.2  2.4  2.6  2.8  3. ]\n",
      "  [ 2.   2.2  2.4  2.6  2.8  3. ]]\n",
      "\n",
      " [[ 2.   2.2  2.4  2.6  2.8  3. ]\n",
      "  [ 2.   2.2  2.4  2.6  2.8  3. ]\n",
      "  [ 2.   2.2  2.4  2.6  2.8  3. ]\n",
      "  [ 2.   2.2  2.4  2.6  2.8  3. ]]\n",
      "\n",
      " [[ 2.   2.2  2.4  2.6  2.8  3. ]\n",
      "  [ 2.   2.2  2.4  2.6  2.8  3. ]\n",
      "  [ 2.   2.2  2.4  2.6  2.8  3. ]\n",
      "  [ 2.   2.2  2.4  2.6  2.8  3. ]]]\n"
     ]
    }
   ],
   "source": [
    "print(zv)"
   ]
  },
  {
   "cell_type": "markdown",
   "metadata": {
    "collapsed": true
   },
   "source": [
    "#### so mesh grids are simple n-D arrays where above arrangements are possible in case of 3D arrays\n"
   ]
  },
  {
   "cell_type": "markdown",
   "metadata": {},
   "source": [
    "### Shape of the meshgrid can be calculated"
   ]
  },
  {
   "cell_type": "markdown",
   "metadata": {},
   "source": [
    "look at the following command :\n",
    "-1.3:1.3   => this is the interval of 2.6 units and divided by 0.005 it returns 520 sub units\n",
    "\n",
    "#### And \n",
    "\n",
    "-2:1       => this is the interval of 3 units and divided by 0.005 it returns 600 sub units\n",
    "\n",
    "#### So the dimension is (520, 600)"
   ]
  },
  {
   "cell_type": "code",
   "execution_count": 32,
   "metadata": {
    "collapsed": true
   },
   "outputs": [],
   "source": [
    "y, x = np.mgrid[-1.3:1.3:0.005, -2:1:0.005]"
   ]
  },
  {
   "cell_type": "code",
   "execution_count": 29,
   "metadata": {
    "collapsed": false
   },
   "outputs": [
    {
     "name": "stdout",
     "output_type": "stream",
     "text": [
      "[[-1.3   -1.3   -1.3   ..., -1.3   -1.3   -1.3  ]\n",
      " [-1.295 -1.295 -1.295 ..., -1.295 -1.295 -1.295]\n",
      " [-1.29  -1.29  -1.29  ..., -1.29  -1.29  -1.29 ]\n",
      " ..., \n",
      " [ 1.285  1.285  1.285 ...,  1.285  1.285  1.285]\n",
      " [ 1.29   1.29   1.29  ...,  1.29   1.29   1.29 ]\n",
      " [ 1.295  1.295  1.295 ...,  1.295  1.295  1.295]]\n",
      "(520, 600)\n"
     ]
    }
   ],
   "source": [
    "print(y)\n",
    "print(y.shape)"
   ]
  },
  {
   "cell_type": "code",
   "execution_count": 30,
   "metadata": {
    "collapsed": false
   },
   "outputs": [
    {
     "name": "stdout",
     "output_type": "stream",
     "text": [
      "(520, 600)\n"
     ]
    }
   ],
   "source": [
    "print(x.shape)"
   ]
  },
  {
   "cell_type": "code",
   "execution_count": 31,
   "metadata": {
    "collapsed": false
   },
   "outputs": [
    {
     "name": "stdout",
     "output_type": "stream",
     "text": [
      "[[-2.    -1.995 -1.99  ...,  0.985  0.99   0.995]\n",
      " [-2.    -1.995 -1.99  ...,  0.985  0.99   0.995]\n",
      " [-2.    -1.995 -1.99  ...,  0.985  0.99   0.995]\n",
      " ..., \n",
      " [-2.    -1.995 -1.99  ...,  0.985  0.99   0.995]\n",
      " [-2.    -1.995 -1.99  ...,  0.985  0.99   0.995]\n",
      " [-2.    -1.995 -1.99  ...,  0.985  0.99   0.995]]\n"
     ]
    }
   ],
   "source": [
    "print(x)"
   ]
  },
  {
   "cell_type": "markdown",
   "metadata": {},
   "source": [
    "### Try ->  print(np.mgrid[0:5, 0:5, 0:5])"
   ]
  },
  {
   "cell_type": "markdown",
   "metadata": {},
   "source": [
    "## Creating grid with complex numbers"
   ]
  },
  {
   "cell_type": "code",
   "execution_count": 36,
   "metadata": {
    "collapsed": true
   },
   "outputs": [],
   "source": [
    "z = x+1j*y\n",
    "# creates complex grid "
   ]
  },
  {
   "cell_type": "code",
   "execution_count": 37,
   "metadata": {
    "collapsed": false
   },
   "outputs": [
    {
     "name": "stdout",
     "output_type": "stream",
     "text": [
      "[[-2.000-1.3j   -1.995-1.3j   -1.990-1.3j   ...,  0.985-1.3j    0.990-1.3j\n",
      "   0.995-1.3j  ]\n",
      " [-2.000-1.295j -1.995-1.295j -1.990-1.295j ...,  0.985-1.295j\n",
      "   0.990-1.295j  0.995-1.295j]\n",
      " [-2.000-1.29j  -1.995-1.29j  -1.990-1.29j  ...,  0.985-1.29j   0.990-1.29j\n",
      "   0.995-1.29j ]\n",
      " ..., \n",
      " [-2.000+1.285j -1.995+1.285j -1.990+1.285j ...,  0.985+1.285j\n",
      "   0.990+1.285j  0.995+1.285j]\n",
      " [-2.000+1.29j  -1.995+1.29j  -1.990+1.29j  ...,  0.985+1.29j   0.990+1.29j\n",
      "   0.995+1.29j ]\n",
      " [-2.000+1.295j -1.995+1.295j -1.990+1.295j ...,  0.985+1.295j\n",
      "   0.990+1.295j  0.995+1.295j]]\n"
     ]
    }
   ],
   "source": [
    "print(z)"
   ]
  },
  {
   "cell_type": "code",
   "execution_count": 38,
   "metadata": {
    "collapsed": false
   },
   "outputs": [
    {
     "name": "stdout",
     "output_type": "stream",
     "text": [
      "Tensor(\"Const:0\", shape=(520, 600), dtype=complex64)\n"
     ]
    }
   ],
   "source": [
    "c = tf.constant(z.astype(\"complex64\"))\n",
    "print(c)"
   ]
  },
  {
   "cell_type": "code",
   "execution_count": 40,
   "metadata": {
    "collapsed": false
   },
   "outputs": [
    {
     "name": "stdout",
     "output_type": "stream",
     "text": [
      "Tensor(\"cc:0\", shape=(520, 600), dtype=complex64)\n"
     ]
    }
   ],
   "source": [
    "cc = tf.constant(z.astype(\"complex64\"), name=\"cc\")\n",
    "\n",
    "print(cc)"
   ]
  },
  {
   "cell_type": "markdown",
   "metadata": {},
   "source": [
    "#### Follow cell [38] and cell [40]\n",
    "the default name of the 'c' is 'Const' if name is not explicitly mentioned"
   ]
  },
  {
   "cell_type": "code",
   "execution_count": 42,
   "metadata": {
    "collapsed": false
   },
   "outputs": [
    {
     "name": "stdout",
     "output_type": "stream",
     "text": [
      "Tensor(\"Variable_1/read:0\", shape=(520, 600), dtype=complex64)\n"
     ]
    }
   ],
   "source": [
    "zs = tf.Variable(c)\n",
    "print(zs)"
   ]
  },
  {
   "cell_type": "code",
   "execution_count": 43,
   "metadata": {
    "collapsed": false
   },
   "outputs": [
    {
     "name": "stdout",
     "output_type": "stream",
     "text": [
      "<class 'tensorflow.python.ops.variables.Variable'>\n"
     ]
    }
   ],
   "source": [
    "print(type(zs))"
   ]
  },
  {
   "cell_type": "markdown",
   "metadata": {},
   "source": [
    "### zs :\n",
    "so the 'zs' is the variable type of variable and initialized with the values equal to 'c'"
   ]
  },
  {
   "cell_type": "markdown",
   "metadata": {},
   "source": [
    "### Creating Tensor with dimension similar to other tensor and completely initialized with zeros"
   ]
  },
  {
   "cell_type": "code",
   "execution_count": 45,
   "metadata": {
    "collapsed": false
   },
   "outputs": [
    {
     "name": "stdout",
     "output_type": "stream",
     "text": [
      "Tensor(\"ns:0\", shape=(2,), dtype=int32)\n",
      "Tensor(\"c:0\", shape=(2,), dtype=int32)\n"
     ]
    }
   ],
   "source": [
    "ns = tf.Variable(tf.zeros_like(c, \"float32\"))\n",
    "print(tf.shape(ns, name=\"ns\"))\n",
    "print(tf.shape(c, name=\"c\"))"
   ]
  },
  {
   "cell_type": "markdown",
   "metadata": {},
   "source": [
    "Above ouput shows that the shape of the tensors is same\n",
    "\n",
    "Running above thing =>\n",
    "\n",
    "with tf.Session() as sess:\n",
    "\n",
    "    sess.run(tf.shape(ns))"
   ]
  },
  {
   "cell_type": "code",
   "execution_count": 46,
   "metadata": {
    "collapsed": false
   },
   "outputs": [
    {
     "name": "stdout",
     "output_type": "stream",
     "text": [
      "WARNING:tensorflow:From <ipython-input-46-6921f3ea5257>:2: initialize_all_variables (from tensorflow.python.ops.variables) is deprecated and will be removed after 2017-03-02.\n",
      "Instructions for updating:\n",
      "Use `tf.global_variables_initializer` instead.\n"
     ]
    }
   ],
   "source": [
    "sess = tf.InteractiveSession()\n",
    "tf.initialize_all_variables().run()"
   ]
  },
  {
   "cell_type": "code",
   "execution_count": 47,
   "metadata": {
    "collapsed": true
   },
   "outputs": [],
   "source": [
    "sess = tf.InteractiveSession()\n",
    "tf.global_variables_initializer().run()"
   ]
  },
  {
   "cell_type": "code",
   "execution_count": 48,
   "metadata": {
    "collapsed": true
   },
   "outputs": [],
   "source": [
    "zs_ = zs*zs + c"
   ]
  },
  {
   "cell_type": "code",
   "execution_count": 49,
   "metadata": {
    "collapsed": false
   },
   "outputs": [
    {
     "name": "stdout",
     "output_type": "stream",
     "text": [
      "Tensor(\"Variable_1/read:0\", shape=(520, 600), dtype=complex64)\n"
     ]
    }
   ],
   "source": [
    "print(zs)"
   ]
  },
  {
   "cell_type": "code",
   "execution_count": 51,
   "metadata": {
    "collapsed": false
   },
   "outputs": [
    {
     "data": {
      "text/plain": [
       "array([[ 0.31000018+3.89999986j,  0.29502523+3.88699985j,\n",
       "         0.28010011+3.87399983j, ...,  0.26522523-3.86099982j,\n",
       "         0.28010023-3.87399983j,  0.29502517-3.88699985j],\n",
       "       [ 0.32297516+3.88499975j,  0.30800021+3.87204981j,\n",
       "         0.29307508+3.85909986j, ...,  0.27820021-3.84614992j,\n",
       "         0.29307520-3.85909986j,  0.30800015-3.87204981j],\n",
       "       [ 0.33590007+3.86999989j,  0.32092512+3.85710001j,\n",
       "         0.30599999+3.84420013j, ...,  0.29112512-3.83130002j,\n",
       "         0.30600011-3.8441999j ,  0.32092506-3.85710001j],\n",
       "       ..., \n",
       "       [ 0.34877491-3.85500002j,  0.33380020-3.84215021j,\n",
       "         0.31887507-3.82929993j, ...,  0.30400008+3.81645012j,\n",
       "         0.31887507+3.82929993j,  0.33380002+3.84214973j],\n",
       "       [ 0.33590007-3.86999989j,  0.32092512-3.85710001j,\n",
       "         0.30599999-3.84420013j, ...,  0.29112512+3.83130002j,\n",
       "         0.30600011+3.8441999j ,  0.32092506+3.85710001j],\n",
       "       [ 0.32297516-3.88499975j,  0.30800021-3.87204981j,\n",
       "         0.29307508-3.85909986j, ...,  0.27820021+3.84614992j,\n",
       "         0.29307520+3.85909986j,  0.30800015+3.87204981j]], dtype=complex64)"
      ]
     },
     "execution_count": 51,
     "metadata": {},
     "output_type": "execute_result"
    }
   ],
   "source": [
    "sess.run(zs_)"
   ]
  },
  {
   "cell_type": "markdown",
   "metadata": {},
   "source": [
    "### Finding if we diverged with this new value:"
   ]
  },
  {
   "cell_type": "code",
   "execution_count": 52,
   "metadata": {
    "collapsed": true
   },
   "outputs": [],
   "source": [
    "not_diverged = tf.abs(zs_) < 4"
   ]
  },
  {
   "cell_type": "code",
   "execution_count": 53,
   "metadata": {
    "collapsed": false
   },
   "outputs": [
    {
     "name": "stdout",
     "output_type": "stream",
     "text": [
      "Tensor(\"Less:0\", shape=(520, 600), dtype=bool)\n"
     ]
    }
   ],
   "source": [
    "print(not_diverged)"
   ]
  },
  {
   "cell_type": "code",
   "execution_count": 55,
   "metadata": {
    "collapsed": false
   },
   "outputs": [
    {
     "name": "stdout",
     "output_type": "stream",
     "text": [
      "[[ 3.91230106  3.89818001  3.8841126  ...,  3.87009883  3.8841126\n",
      "   3.89818001]\n",
      " [ 3.89840174  3.88428044  3.87021255 ...,  3.85619831  3.87021255\n",
      "   3.88428044]\n",
      " [ 3.88454986  3.87042809  3.85635972 ...,  3.84234476  3.85635948\n",
      "   3.87042809]\n",
      " ..., \n",
      " [ 3.87074518  3.85662293  3.84255385 ...,  3.82853866  3.84255385\n",
      "   3.85662246]\n",
      " [ 3.88454986  3.87042809  3.85635972 ...,  3.84234476  3.85635948\n",
      "   3.87042809]\n",
      " [ 3.89840174  3.88428044  3.87021255 ...,  3.85619831  3.87021255\n",
      "   3.88428044]]\n"
     ]
    }
   ],
   "source": [
    "print(sess.run(tf.abs(zs_)))"
   ]
  },
  {
   "cell_type": "markdown",
   "metadata": {},
   "source": [
    "## tf.abs() -> returns absolute value of any thing that is there"
   ]
  },
  {
   "cell_type": "code",
   "execution_count": 57,
   "metadata": {
    "collapsed": true
   },
   "outputs": [],
   "source": [
    "step = tf.group(\n",
    "    zs.assign(zs_),\n",
    "    ns.assign_add(tf.cast(not_diverged, \"float32\"))\n",
    "    )\n",
    "# assign_add : will add not_diverged to ns and then assign\n",
    "# that whole result to ns"
   ]
  },
  {
   "cell_type": "code",
   "execution_count": 58,
   "metadata": {
    "collapsed": false
   },
   "outputs": [
    {
     "data": {
      "text/plain": [
       "tensorflow.python.ops.variables.Variable"
      ]
     },
     "execution_count": 58,
     "metadata": {},
     "output_type": "execute_result"
    }
   ],
   "source": [
    "type(zs)"
   ]
  },
  {
   "cell_type": "code",
   "execution_count": null,
   "metadata": {
    "collapsed": true
   },
   "outputs": [],
   "source": []
  }
 ],
 "metadata": {
  "kernelspec": {
   "display_name": "PythonTfn",
   "language": "python",
   "name": "python3"
  },
  "language_info": {
   "codemirror_mode": {
    "name": "ipython",
    "version": 3
   },
   "file_extension": ".py",
   "mimetype": "text/x-python",
   "name": "python",
   "nbconvert_exporter": "python",
   "pygments_lexer": "ipython3",
   "version": "3.6.0"
  }
 },
 "nbformat": 4,
 "nbformat_minor": 2
}
